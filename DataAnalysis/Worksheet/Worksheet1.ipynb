{
 "cells": [
  {
   "cell_type": "code",
   "execution_count": 13,
   "metadata": {},
   "outputs": [],
   "source": [
    "d = [ 2, 4, 6, 8, 'Monday', 'Tuesday']"
   ]
  },
  {
   "cell_type": "code",
   "execution_count": 14,
   "metadata": {},
   "outputs": [],
   "source": [
    "d.insert(2, 100)"
   ]
  },
  {
   "cell_type": "code",
   "execution_count": 15,
   "metadata": {},
   "outputs": [
    {
     "name": "stdout",
     "output_type": "stream",
     "text": [
      "List: [2, 4, 100, 6, 8, 'Monday', 'Tuesday']\n"
     ]
    }
   ],
   "source": [
    "print('List:' , d)"
   ]
  },
  {
   "cell_type": "code",
   "execution_count": 16,
   "metadata": {},
   "outputs": [
    {
     "name": "stdout",
     "output_type": "stream",
     "text": [
      "[2, 4, 100, 6, 8, 'Monday', 'Tuesday', 'Wednesday', 'Thursday', 'Friday']\n"
     ]
    }
   ],
   "source": [
    "d2 = [ 'Wednesday', 'Thursday', 'Friday']\n",
    "conc_list = d + d2\n",
    "print(conc_list)"
   ]
  },
  {
   "cell_type": "code",
   "execution_count": 17,
   "metadata": {},
   "outputs": [
    {
     "name": "stdout",
     "output_type": "stream",
     "text": [
      "My favourite day of the week is Tuesday\n"
     ]
    }
   ],
   "source": [
    "print('My favourite day of the week is', d.pop())"
   ]
  },
  {
   "cell_type": "code",
   "execution_count": 18,
   "metadata": {},
   "outputs": [
    {
     "name": "stdout",
     "output_type": "stream",
     "text": [
      "[ 0.          3.88888889  7.77777778 11.66666667 15.55555556 19.44444444\n",
      " 23.33333333 27.22222222 31.11111111 35.        ]\n"
     ]
    }
   ],
   "source": [
    "import numpy as np\n",
    "d= np.linspace(0,35, num=10)\n",
    "print(d)\n"
   ]
  },
  {
   "cell_type": "code",
   "execution_count": 19,
   "metadata": {},
   "outputs": [],
   "source": [
    "d= np.reshape(d, (5,2))"
   ]
  },
  {
   "cell_type": "code",
   "execution_count": 20,
   "metadata": {},
   "outputs": [
    {
     "name": "stdout",
     "output_type": "stream",
     "text": [
      "15.555555555555554\n"
     ]
    }
   ],
   "source": [
    "print(np.average(d[:,0]))"
   ]
  },
  {
   "cell_type": "code",
   "execution_count": 21,
   "metadata": {},
   "outputs": [
    {
     "name": "stdout",
     "output_type": "stream",
     "text": [
      "19.444444444444446\n"
     ]
    }
   ],
   "source": [
    "print(np.average(d[:,1]))"
   ]
  },
  {
   "cell_type": "code",
   "execution_count": 22,
   "metadata": {},
   "outputs": [
    {
     "name": "stdout",
     "output_type": "stream",
     "text": [
      "[ 3.88888889 11.66666667 19.44444444 27.22222222 35.        ]\n"
     ]
    }
   ],
   "source": [
    "print(d[:,1])"
   ]
  }
 ],
 "metadata": {
  "kernelspec": {
   "display_name": "Python 3.9.13 64-bit (microsoft store)",
   "language": "python",
   "name": "python3"
  },
  "language_info": {
   "codemirror_mode": {
    "name": "ipython",
    "version": 3
   },
   "file_extension": ".py",
   "mimetype": "text/x-python",
   "name": "python",
   "nbconvert_exporter": "python",
   "pygments_lexer": "ipython3",
   "version": "3.9.13"
  },
  "orig_nbformat": 4,
  "vscode": {
   "interpreter": {
    "hash": "255d7ba9310648c5ca94a0387298f5e5618361c63d12bd0888f5951bd133afb1"
   }
  }
 },
 "nbformat": 4,
 "nbformat_minor": 2
}
