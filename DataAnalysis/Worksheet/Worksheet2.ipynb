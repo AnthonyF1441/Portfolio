{
 "cells": [
  {
   "cell_type": "code",
   "execution_count": 401,
   "metadata": {},
   "outputs": [
    {
     "name": "stdout",
     "output_type": "stream",
     "text": [
      "[-20. -15. -10.  -5.   0.   5.  10.  15.  20.  25.]\n"
     ]
    }
   ],
   "source": [
    "# 1) Using the function arange, create an array of 10 integers 'd' from -20 to 25 (inclusive), in steps of 5.\n",
    "\n",
    "import numpy as np\n",
    "d= np.linspace(-20,25, num=10)\n",
    "print(d)"
   ]
  },
  {
   "cell_type": "code",
   "execution_count": 402,
   "metadata": {},
   "outputs": [
    {
     "name": "stdout",
     "output_type": "stream",
     "text": [
      "[-200.0, -150.0, -100.0, -50.0, 0.0, 50.0, 100.0, 150.0, 200.0, 250.0]\n"
     ]
    }
   ],
   "source": [
    "# 2) Multiply all values in d by 10, storing the result in d2.\n",
    "\n",
    "d2 = [d*10 for d in d]\n",
    "print(d2)"
   ]
  },
  {
   "cell_type": "code",
   "execution_count": 403,
   "metadata": {},
   "outputs": [
    {
     "name": "stdout",
     "output_type": "stream",
     "text": [
      "[-220.0, -165.0, -110.0, -55.0, 0.0, 55.0, 110.0, 165.0, 220.0, 275.0]\n"
     ]
    }
   ],
   "source": [
    "# 3) Add the values stored in d and d2, element-wise, printing the result to the console\n",
    "\n",
    "print([sum(x) for x in zip(d, d2)])"
   ]
  },
  {
   "cell_type": "code",
   "execution_count": 404,
   "metadata": {},
   "outputs": [
    {
     "name": "stdout",
     "output_type": "stream",
     "text": [
      "[[-200. -150.]\n",
      " [-100.  -50.]\n",
      " [   0.   50.]\n",
      " [ 100.  150.]\n",
      " [ 200.  250.]]\n"
     ]
    }
   ],
   "source": [
    "# 4) Reshape d2 into a 5x2 array, storing the result in d2.\n",
    "\n",
    "d2 = np.reshape(d2, (5,2))\n",
    "print(d2)"
   ]
  },
  {
   "cell_type": "code",
   "execution_count": 405,
   "metadata": {},
   "outputs": [],
   "source": [
    "# 5) Create an array d3, containing the integers 1,2,3,4,5.\n",
    "\n",
    "d3 = [1,2,3,4,5]"
   ]
  },
  {
   "cell_type": "code",
   "execution_count": 406,
   "metadata": {},
   "outputs": [
    {
     "name": "stdout",
     "output_type": "stream",
     "text": [
      "[[-200. -150.]\n",
      " [-200. -100.]\n",
      " [   0.  150.]\n",
      " [ 400.  600.]\n",
      " [1000. 1250.]]\n"
     ]
    }
   ],
   "source": [
    "# 6) Reshape d3 into the necessary shape such that d2*d3 succeeds (hint: broadcasting). Save the result of d2*d3 into d4, and print d4 toto the console.\n",
    "\n",
    "d3 = np.reshape(d3, (5,1))\n",
    "d4 = d3 * d2\n",
    "print(d4)\n"
   ]
  },
  {
   "cell_type": "code",
   "execution_count": 407,
   "metadata": {},
   "outputs": [
    {
     "data": {
      "text/plain": [
       "array([[-200.],\n",
       "       [-200.],\n",
       "       [   0.],\n",
       "       [ 400.],\n",
       "       [1000.]])"
      ]
     },
     "execution_count": 407,
     "metadata": {},
     "output_type": "execute_result"
    }
   ],
   "source": [
    "# 7) Print to the console the 1st, 3rd and 5th rows, both columns, of d4. \n",
    "\n",
    "d4[::,::2]"
   ]
  },
  {
   "cell_type": "code",
   "execution_count": 408,
   "metadata": {},
   "outputs": [
    {
     "name": "stdout",
     "output_type": "stream",
     "text": [
      "2540452639536\n"
     ]
    }
   ],
   "source": [
    "# 8) Print the object ID of d4 to the console.\n",
    "\n",
    "print(id(d4))"
   ]
  },
  {
   "cell_type": "code",
   "execution_count": 409,
   "metadata": {},
   "outputs": [
    {
     "data": {
      "text/plain": [
       "array([-200., -150., -200., -100.,    0.,  150.,  400.,  600., 1000.,\n",
       "       1250.])"
      ]
     },
     "execution_count": 409,
     "metadata": {},
     "output_type": "execute_result"
    }
   ],
   "source": [
    "# 10) Flatten (not reshape) d4 back into a 10x1 array. Print the result to the console. Your output should match: [-200 -150 -200 -100 0 150 400 600 1000 1250]\n",
    "\n",
    "d4.flatten()\n"
   ]
  }
 ],
 "metadata": {
  "kernelspec": {
   "display_name": "Python 3.9.13 64-bit (microsoft store)",
   "language": "python",
   "name": "python3"
  },
  "language_info": {
   "codemirror_mode": {
    "name": "ipython",
    "version": 3
   },
   "file_extension": ".py",
   "mimetype": "text/x-python",
   "name": "python",
   "nbconvert_exporter": "python",
   "pygments_lexer": "ipython3",
   "version": "3.9.13"
  },
  "orig_nbformat": 4,
  "vscode": {
   "interpreter": {
    "hash": "255d7ba9310648c5ca94a0387298f5e5618361c63d12bd0888f5951bd133afb1"
   }
  }
 },
 "nbformat": 4,
 "nbformat_minor": 2
}
