{
 "cells": [
  {
   "cell_type": "code",
   "execution_count": 21,
   "metadata": {},
   "outputs": [],
   "source": [
    "import numpy as np\n",
    "import pandas as pd\n",
    "import csv"
   ]
  },
  {
   "cell_type": "code",
   "execution_count": 22,
   "metadata": {},
   "outputs": [
    {
     "name": "stdout",
     "output_type": "stream",
     "text": [
      "c:\\Users\\Anthony Fung\\Documents\\GitHub\\Portfolio\\DataAnalysis\\Worksheet\n"
     ]
    }
   ],
   "source": [
    "import os\n",
    "print(os.getcwd())"
   ]
  },
  {
   "cell_type": "code",
   "execution_count": 23,
   "metadata": {},
   "outputs": [],
   "source": [
    "d = [['ID', 'Age', 'is_part_time', 'salary'],[3, 35, False, 72000], [30, 18, True, 16000], [2, 40, False, 100000], [5, 20, False, 62000], [1, 38, False, 120000]]"
   ]
  },
  {
   "cell_type": "code",
   "execution_count": 24,
   "metadata": {},
   "outputs": [
    {
     "name": "stdout",
     "output_type": "stream",
     "text": [
      "[['ID', 'Age', 'is_part_time', 'salary'], [3, 35, False, 72000], [30, 18, True, 16000], [2, 40, False, 100000], [5, 20, False, 62000], [1, 38, False, 120000]]\n"
     ]
    }
   ],
   "source": [
    "print(d)"
   ]
  },
  {
   "cell_type": "code",
   "execution_count": 25,
   "metadata": {},
   "outputs": [],
   "source": [
    "f = open(r\"d.csv\", 'w+', newline = '')\n",
    "with f as csvfile:\n",
    "    writer = csv.writer(csvfile, delimiter =',')\n",
    "    writer = writer.writerows(d)\n",
    "    "
   ]
  },
  {
   "cell_type": "code",
   "execution_count": 26,
   "metadata": {},
   "outputs": [
    {
     "name": "stdout",
     "output_type": "stream",
     "text": [
      "   ID  Age  is_part_time  salary\n",
      "0   3   35         False   72000\n",
      "1  30   18          True   16000\n",
      "2   2   40         False  100000\n",
      "3   5   20         False   62000\n",
      "4   1   38         False  120000\n"
     ]
    }
   ],
   "source": [
    "d2 = pd.read_csv(r\"d.csv\")\n",
    "print(d2)"
   ]
  },
  {
   "cell_type": "code",
   "execution_count": 27,
   "metadata": {},
   "outputs": [
    {
     "name": "stdout",
     "output_type": "stream",
     "text": [
      "a    0\n",
      "b    1\n",
      "c    2\n",
      "d    3\n",
      "e    4\n",
      "dtype: int64\n"
     ]
    }
   ],
   "source": [
    "d = pd.Series(range(0,5,1),index = ['a','b','c','d','e'])\n",
    "print(d)"
   ]
  },
  {
   "cell_type": "code",
   "execution_count": 28,
   "metadata": {},
   "outputs": [
    {
     "name": "stdout",
     "output_type": "stream",
     "text": [
      "a    5\n",
      "b    6\n",
      "c    7\n",
      "d    8\n",
      "z    9\n",
      "dtype: int64\n"
     ]
    }
   ],
   "source": [
    "d2 =  pd.Series(range(5,10,1), index = ['a','b','c','d','z'])\n",
    "print(d2)"
   ]
  },
  {
   "cell_type": "code",
   "execution_count": 29,
   "metadata": {},
   "outputs": [
    {
     "name": "stdout",
     "output_type": "stream",
     "text": [
      "a     5.0\n",
      "b     7.0\n",
      "c     9.0\n",
      "d    11.0\n",
      "e     NaN\n",
      "z     NaN\n",
      "dtype: float64\n"
     ]
    }
   ],
   "source": [
    "d3 = d.add(d2)\n",
    "print(d3)"
   ]
  },
  {
   "cell_type": "code",
   "execution_count": 30,
   "metadata": {},
   "outputs": [
    {
     "name": "stdout",
     "output_type": "stream",
     "text": [
      "e   NaN\n",
      "z   NaN\n",
      "dtype: float64\n"
     ]
    }
   ],
   "source": [
    "print (d3[d3.isna()])\n"
   ]
  },
  {
   "cell_type": "code",
   "execution_count": 31,
   "metadata": {},
   "outputs": [
    {
     "name": "stderr",
     "output_type": "stream",
     "text": [
      "C:\\Users\\Anthony Fung\\AppData\\Local\\Packages\\PythonSoftwareFoundation.Python.3.9_qbz5n2kfra8p0\\LocalCache\\local-packages\\Python39\\site-packages\\pandas\\util\\__init__.py:16: FutureWarning: pandas.util.testing is deprecated. Use the functions in the public API at pandas.testing instead.\n",
      "  import pandas.util.testing\n"
     ]
    }
   ],
   "source": [
    "d4 = pd.util.testing.makeMixedDataFrame()"
   ]
  },
  {
   "cell_type": "code",
   "execution_count": 32,
   "metadata": {},
   "outputs": [
    {
     "name": "stdout",
     "output_type": "stream",
     "text": [
      "     A    B     C          D  Greater\n",
      "0  0.0  0.0  foo1 2009-01-01      NaN\n",
      "1  1.0  1.0  foo2 2009-01-02      NaN\n",
      "2  2.0  0.0  foo3 2009-01-05      NaN\n",
      "3  3.0  1.0  foo4 2009-01-06      1.0\n",
      "4  4.0  0.0  foo5 2009-01-07      1.0\n"
     ]
    }
   ],
   "source": [
    "d4['Greater'] = np.where((d4['A'] > 2), (d4['A'] > 2), np.nan)\n",
    "print(d4)"
   ]
  },
  {
   "cell_type": "code",
   "execution_count": null,
   "metadata": {},
   "outputs": [],
   "source": []
  }
 ],
 "metadata": {
  "kernelspec": {
   "display_name": "Python 3.9.13 64-bit (microsoft store)",
   "language": "python",
   "name": "python3"
  },
  "language_info": {
   "codemirror_mode": {
    "name": "ipython",
    "version": 3
   },
   "file_extension": ".py",
   "mimetype": "text/x-python",
   "name": "python",
   "nbconvert_exporter": "python",
   "pygments_lexer": "ipython3",
   "version": "3.9.13"
  },
  "orig_nbformat": 4,
  "vscode": {
   "interpreter": {
    "hash": "255d7ba9310648c5ca94a0387298f5e5618361c63d12bd0888f5951bd133afb1"
   }
  }
 },
 "nbformat": 4,
 "nbformat_minor": 2
}
