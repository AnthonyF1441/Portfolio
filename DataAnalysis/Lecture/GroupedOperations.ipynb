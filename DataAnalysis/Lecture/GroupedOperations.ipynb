{
 "cells": [
  {
   "cell_type": "code",
   "execution_count": 119,
   "metadata": {},
   "outputs": [],
   "source": [
    "import pandas as pd\n",
    "import numpy as np"
   ]
  },
  {
   "cell_type": "markdown",
   "metadata": {},
   "source": [
    "\n",
    "Categorising a data( by passendger class), and applying a function to each group, is a core operation in data analysis\n"
   ]
  },
  {
   "cell_type": "code",
   "execution_count": null,
   "metadata": {},
   "outputs": [],
   "source": []
  },
  {
   "cell_type": "markdown",
   "metadata": {},
   "source": [
    "## Split apply combine\n",
    "The prolific R developer hadley Wickham, creator of ggplot, coined the term split-apply-combine\n",
    "This technique was later brought to python through pandas\n",
    "\n",
    "\n",
    "## Stages\n",
    "1. Data conatined in a panda object is split into group based on one or more keys. Splitting is done on particular axis\n",
    "2. a function is then applied to each group production a new value\n",
    "3. The result of those function application are then combined into a new result object\n",
    "\n",
    "\n",
    "## Keys\n",
    "the Key can take several forms\n",
    "A lost of array of values that is the same lenght as the axisbeing groupe\n",
    "a value indicating a column name in dataframe"
   ]
  },
  {
   "cell_type": "code",
   "execution_count": 120,
   "metadata": {},
   "outputs": [
    {
     "data": {
      "text/html": [
       "<div>\n",
       "<style scoped>\n",
       "    .dataframe tbody tr th:only-of-type {\n",
       "        vertical-align: middle;\n",
       "    }\n",
       "\n",
       "    .dataframe tbody tr th {\n",
       "        vertical-align: top;\n",
       "    }\n",
       "\n",
       "    .dataframe thead th {\n",
       "        text-align: right;\n",
       "    }\n",
       "</style>\n",
       "<table border=\"1\" class=\"dataframe\">\n",
       "  <thead>\n",
       "    <tr style=\"text-align: right;\">\n",
       "      <th></th>\n",
       "      <th>key1</th>\n",
       "      <th>key2</th>\n",
       "      <th>data1</th>\n",
       "      <th>data2</th>\n",
       "    </tr>\n",
       "  </thead>\n",
       "  <tbody>\n",
       "    <tr>\n",
       "      <th>0</th>\n",
       "      <td>a</td>\n",
       "      <td>1.0</td>\n",
       "      <td>-1.106851</td>\n",
       "      <td>0.274503</td>\n",
       "    </tr>\n",
       "    <tr>\n",
       "      <th>1</th>\n",
       "      <td>a</td>\n",
       "      <td>2.0</td>\n",
       "      <td>1.245186</td>\n",
       "      <td>-0.783344</td>\n",
       "    </tr>\n",
       "    <tr>\n",
       "      <th>2</th>\n",
       "      <td>None</td>\n",
       "      <td>1.0</td>\n",
       "      <td>1.193912</td>\n",
       "      <td>0.736214</td>\n",
       "    </tr>\n",
       "    <tr>\n",
       "      <th>3</th>\n",
       "      <td>b</td>\n",
       "      <td>2.0</td>\n",
       "      <td>-0.517307</td>\n",
       "      <td>-0.112067</td>\n",
       "    </tr>\n",
       "    <tr>\n",
       "      <th>4</th>\n",
       "      <td>b</td>\n",
       "      <td>1.0</td>\n",
       "      <td>0.198812</td>\n",
       "      <td>-0.123519</td>\n",
       "    </tr>\n",
       "    <tr>\n",
       "      <th>5</th>\n",
       "      <td>a</td>\n",
       "      <td>NaN</td>\n",
       "      <td>0.336315</td>\n",
       "      <td>-1.573983</td>\n",
       "    </tr>\n",
       "    <tr>\n",
       "      <th>6</th>\n",
       "      <td>None</td>\n",
       "      <td>1.0</td>\n",
       "      <td>0.764400</td>\n",
       "      <td>-0.315719</td>\n",
       "    </tr>\n",
       "  </tbody>\n",
       "</table>\n",
       "</div>"
      ],
      "text/plain": [
       "   key1  key2     data1     data2\n",
       "0     a   1.0 -1.106851  0.274503\n",
       "1     a   2.0  1.245186 -0.783344\n",
       "2  None   1.0  1.193912  0.736214\n",
       "3     b   2.0 -0.517307 -0.112067\n",
       "4     b   1.0  0.198812 -0.123519\n",
       "5     a   NaN  0.336315 -1.573983\n",
       "6  None   1.0  0.764400 -0.315719"
      ]
     },
     "execution_count": 120,
     "metadata": {},
     "output_type": "execute_result"
    }
   ],
   "source": [
    "df = pd.DataFrame({\"key1\" : [\"a\", \"a\", None, \"b\", \"b\", \"a\", None], \"key2\": pd.Series([1,2,1,2,1,None,1]), \n",
    "                   \"data1\" : np.random.standard_normal(7), \"data2\" : np.random.standard_normal(7)})\n",
    "df"
   ]
  },
  {
   "cell_type": "markdown",
   "metadata": {},
   "source": [
    "## Grouping\n",
    "We want to calcualte the mean of the data1 column using the values in key1.\n",
    "This is, we want the mean of the value for key1 = a, and the mean of the values of key1 =b\n",
    "\n",
    "# Slow way\n",
    "We can use boolean indexing to get these values"
   ]
  },
  {
   "cell_type": "code",
   "execution_count": 121,
   "metadata": {},
   "outputs": [
    {
     "name": "stdout",
     "output_type": "stream",
     "text": [
      "0.158216725166237\n",
      "-0.1592471824989751\n"
     ]
    }
   ],
   "source": [
    "print(df[df[\"key1\"] == \"a\"][\"data1\"].mean())\n",
    "print(df[df[\"key1\"] == \"b\"] [\"data1\"].mean())"
   ]
  },
  {
   "cell_type": "markdown",
   "metadata": {},
   "source": [
    "## Group-by-way\n",
    "The concise alternative is using groupby()\n",
    "We being with boolean indexing by supplying the columns we wish to operate on \n",
    "Next, we provide the key(column) on which group values.\n",
    "This grouped variable is now a special Groupby object"
   ]
  },
  {
   "cell_type": "code",
   "execution_count": 122,
   "metadata": {},
   "outputs": [
    {
     "data": {
      "text/plain": [
       "<pandas.core.groupby.generic.SeriesGroupBy object at 0x0000014B40160FA0>"
      ]
     },
     "execution_count": 122,
     "metadata": {},
     "output_type": "execute_result"
    }
   ],
   "source": [
    "grouped = df[\"data1\"].groupby([df[\"key1\"]])\n",
    "grouped"
   ]
  },
  {
   "cell_type": "markdown",
   "metadata": {},
   "source": [
    "## Grouped by funciton\n",
    "Out groupby object as not yet computed anything, except for intermediate data about the group key df[\"key1]\n",
    "This objext has all of the information needed to then apply an operation. For this example, that is the arithemtic mean()"
   ]
  },
  {
   "cell_type": "code",
   "execution_count": 123,
   "metadata": {},
   "outputs": [
    {
     "data": {
      "text/plain": [
       "key1\n",
       "a    0.158217\n",
       "b   -0.159247\n",
       "Name: data1, dtype: float64"
      ]
     },
     "execution_count": 123,
     "metadata": {},
     "output_type": "execute_result"
    }
   ],
   "source": [
    "grouped.mean()"
   ]
  },
  {
   "cell_type": "markdown",
   "metadata": {},
   "source": [
    "The output data (a Series) has been aggregated by spltting the data on the grouped key, producing a new series that is indexed by the unique values in key1\n",
    "The index of the returned Series object has the name key1, as the input DataFrame column df[\"key1\"] did"
   ]
  },
  {
   "cell_type": "markdown",
   "metadata": {},
   "source": [
    "Passing multiple arrays as a lit ot groupby() allows us to further group our DF by mutiple keys."
   ]
  },
  {
   "cell_type": "code",
   "execution_count": 124,
   "metadata": {},
   "outputs": [
    {
     "data": {
      "text/plain": [
       "key1  key2\n",
       "a     1.0    -1.106851\n",
       "      2.0     1.245186\n",
       "b     1.0     0.198812\n",
       "      2.0    -0.517307\n",
       "Name: data1, dtype: float64"
      ]
     },
     "execution_count": 124,
     "metadata": {},
     "output_type": "execute_result"
    }
   ],
   "source": [
    "d = df[\"data1\"].groupby([df[\"key1\"], df[\"key2\"]]).mean()\n",
    "d"
   ]
  },
  {
   "cell_type": "markdown",
   "metadata": {},
   "source": [
    "## Multiple Index\n",
    "A closer inspection of our returned object reveals a Series with \n",
    "multiple indexes: Key1, and Key2.\n",
    "\n",
    "Recall: indexes are not data columns; they index to values in our \n",
    "Series/DataFrame."
   ]
  },
  {
   "cell_type": "code",
   "execution_count": 125,
   "metadata": {},
   "outputs": [
    {
     "data": {
      "text/plain": [
       "MultiIndex([('a', 1.0),\n",
       "            ('a', 2.0),\n",
       "            ('b', 1.0),\n",
       "            ('b', 2.0)],\n",
       "           names=['key1', 'key2'])"
      ]
     },
     "execution_count": 125,
     "metadata": {},
     "output_type": "execute_result"
    }
   ],
   "source": [
    "d.index"
   ]
  },
  {
   "cell_type": "markdown",
   "metadata": {},
   "source": [
    "Accessing Values in a multi-index"
   ]
  },
  {
   "cell_type": "code",
   "execution_count": 126,
   "metadata": {},
   "outputs": [
    {
     "name": "stdout",
     "output_type": "stream",
     "text": [
      "key2\n",
      "1.0   -1.106851\n",
      "2.0    1.245186\n",
      "Name: data1, dtype: float64 \n",
      "----\n",
      "-1.1068510012523922\n"
     ]
    }
   ],
   "source": [
    "print(d[\"a\"],\"\\n----\")\n",
    "print(d[\"a\"][1])"
   ]
  },
  {
   "cell_type": "markdown",
   "metadata": {},
   "source": [
    "## Hierarchical indexing\n",
    "\n",
    "Hierarchical indexing allows you multiple (two or more) index levels\n",
    "on an axis.\n",
    "\n",
    "You could think about it as allowing you to work with higher-dimensional data in a lower-dimensional form.\n",
    "\n",
    "Here we have a list of lists (or arrays) as the index to our Series:\n"
   ]
  },
  {
   "cell_type": "code",
   "execution_count": 127,
   "metadata": {},
   "outputs": [
    {
     "data": {
      "text/plain": [
       "a  1    0.463076\n",
       "   2    0.720582\n",
       "   3    0.214094\n",
       "b  1    0.039333\n",
       "   3    0.756247\n",
       "c  1    0.082883\n",
       "   2    0.816770\n",
       "d  2    0.761913\n",
       "   3    0.328906\n",
       "dtype: float64"
      ]
     },
     "execution_count": 127,
     "metadata": {},
     "output_type": "execute_result"
    }
   ],
   "source": [
    "data = pd.Series(np.random.uniform(size=9), index = [[\"a\",\"a\", \"a\", \"b\", \"b\", \"c\", \"c\", \"d\", \"d\"], [1,2,3,1,3,1,2,2,3]])\n",
    "data    "
   ]
  },
  {
   "cell_type": "markdown",
   "metadata": {},
   "source": [
    "## MultiIndex"
   ]
  },
  {
   "cell_type": "code",
   "execution_count": 128,
   "metadata": {},
   "outputs": [
    {
     "data": {
      "text/plain": [
       "MultiIndex([('a', 1),\n",
       "            ('a', 2),\n",
       "            ('a', 3),\n",
       "            ('b', 1),\n",
       "            ('b', 3),\n",
       "            ('c', 1),\n",
       "            ('c', 2),\n",
       "            ('d', 2),\n",
       "            ('d', 3)],\n",
       "           )"
      ]
     },
     "execution_count": 128,
     "metadata": {},
     "output_type": "execute_result"
    }
   ],
   "source": [
    "data.index"
   ]
  },
  {
   "cell_type": "markdown",
   "metadata": {},
   "source": [
    "## Accessing Data\n",
    "Partial Indexing is possible with a multiindex"
   ]
  },
  {
   "cell_type": "code",
   "execution_count": 129,
   "metadata": {},
   "outputs": [
    {
     "data": {
      "text/plain": [
       "1    0.463076\n",
       "2    0.720582\n",
       "3    0.214094\n",
       "dtype: float64"
      ]
     },
     "execution_count": 129,
     "metadata": {},
     "output_type": "execute_result"
    }
   ],
   "source": [
    "# Partial indexing\n",
    "data[\"a\"]"
   ]
  },
  {
   "cell_type": "markdown",
   "metadata": {},
   "source": [
    "As are silces:"
   ]
  },
  {
   "cell_type": "code",
   "execution_count": 130,
   "metadata": {},
   "outputs": [
    {
     "data": {
      "text/plain": [
       "a  1    0.463076\n",
       "   2    0.720582\n",
       "   3    0.214094\n",
       "b  1    0.039333\n",
       "   3    0.756247\n",
       "dtype: float64"
      ]
     },
     "execution_count": 130,
     "metadata": {},
     "output_type": "execute_result"
    }
   ],
   "source": [
    "data[\"a\":\"b\"]"
   ]
  },
  {
   "cell_type": "code",
   "execution_count": 131,
   "metadata": {},
   "outputs": [
    {
     "data": {
      "text/plain": [
       "b  1    0.039333\n",
       "   3    0.756247\n",
       "d  2    0.761913\n",
       "   3    0.328906\n",
       "dtype: float64"
      ]
     },
     "execution_count": 131,
     "metadata": {},
     "output_type": "execute_result"
    }
   ],
   "source": [
    "data.loc[[\"b\",\"d\"]]"
   ]
  },
  {
   "cell_type": "markdown",
   "metadata": {},
   "source": [
    "## Inner indexing\n",
    "We can also select values from the inner index"
   ]
  },
  {
   "cell_type": "code",
   "execution_count": 132,
   "metadata": {},
   "outputs": [
    {
     "data": {
      "text/plain": [
       "a    0.720582\n",
       "c    0.816770\n",
       "d    0.761913\n",
       "dtype: float64"
      ]
     },
     "execution_count": 132,
     "metadata": {},
     "output_type": "execute_result"
    }
   ],
   "source": [
    "# Inner indexing\n",
    "data.loc[:,2]"
   ]
  },
  {
   "cell_type": "markdown",
   "metadata": {},
   "source": [
    "## Stacking and unstacking\n",
    "Hierarchical Indexing plays an important role in GroupedBy operations \n",
    "We can rearrange our data into a DataFrame with unstack():"
   ]
  },
  {
   "cell_type": "code",
   "execution_count": 133,
   "metadata": {},
   "outputs": [
    {
     "data": {
      "text/html": [
       "<div>\n",
       "<style scoped>\n",
       "    .dataframe tbody tr th:only-of-type {\n",
       "        vertical-align: middle;\n",
       "    }\n",
       "\n",
       "    .dataframe tbody tr th {\n",
       "        vertical-align: top;\n",
       "    }\n",
       "\n",
       "    .dataframe thead th {\n",
       "        text-align: right;\n",
       "    }\n",
       "</style>\n",
       "<table border=\"1\" class=\"dataframe\">\n",
       "  <thead>\n",
       "    <tr style=\"text-align: right;\">\n",
       "      <th></th>\n",
       "      <th>1</th>\n",
       "      <th>2</th>\n",
       "      <th>3</th>\n",
       "    </tr>\n",
       "  </thead>\n",
       "  <tbody>\n",
       "    <tr>\n",
       "      <th>a</th>\n",
       "      <td>0.463076</td>\n",
       "      <td>0.720582</td>\n",
       "      <td>0.214094</td>\n",
       "    </tr>\n",
       "    <tr>\n",
       "      <th>b</th>\n",
       "      <td>0.039333</td>\n",
       "      <td>NaN</td>\n",
       "      <td>0.756247</td>\n",
       "    </tr>\n",
       "    <tr>\n",
       "      <th>c</th>\n",
       "      <td>0.082883</td>\n",
       "      <td>0.816770</td>\n",
       "      <td>NaN</td>\n",
       "    </tr>\n",
       "    <tr>\n",
       "      <th>d</th>\n",
       "      <td>NaN</td>\n",
       "      <td>0.761913</td>\n",
       "      <td>0.328906</td>\n",
       "    </tr>\n",
       "  </tbody>\n",
       "</table>\n",
       "</div>"
      ],
      "text/plain": [
       "          1         2         3\n",
       "a  0.463076  0.720582  0.214094\n",
       "b  0.039333       NaN  0.756247\n",
       "c  0.082883  0.816770       NaN\n",
       "d       NaN  0.761913  0.328906"
      ]
     },
     "execution_count": 133,
     "metadata": {},
     "output_type": "execute_result"
    }
   ],
   "source": [
    "data.unstack()"
   ]
  },
  {
   "cell_type": "markdown",
   "metadata": {},
   "source": [
    "## Stack()\n",
    "The inverse is a stack(), which creates a multi-index from a Series/DF"
   ]
  },
  {
   "cell_type": "code",
   "execution_count": 134,
   "metadata": {},
   "outputs": [
    {
     "data": {
      "text/plain": [
       "a  1    0.463076\n",
       "   2    0.720582\n",
       "   3    0.214094\n",
       "b  1    0.039333\n",
       "   3    0.756247\n",
       "c  1    0.082883\n",
       "   2    0.816770\n",
       "d  2    0.761913\n",
       "   3    0.328906\n",
       "dtype: float64"
      ]
     },
     "execution_count": 134,
     "metadata": {},
     "output_type": "execute_result"
    }
   ],
   "source": [
    "data.unstack().stack()"
   ]
  },
  {
   "cell_type": "markdown",
   "metadata": {},
   "source": [
    "## Unstacking our DF\n",
    "We can now return to our DF eariler DF example, and unstack() it back to a regular DataFrame"
   ]
  },
  {
   "cell_type": "code",
   "execution_count": 135,
   "metadata": {},
   "outputs": [
    {
     "name": "stdout",
     "output_type": "stream",
     "text": [
      "   key1  key2     data1     data2\n",
      "0     a   1.0 -1.106851  0.274503\n",
      "1     a   2.0  1.245186 -0.783344\n",
      "2  None   1.0  1.193912  0.736214\n",
      "3     b   2.0 -0.517307 -0.112067\n",
      "4     b   1.0  0.198812 -0.123519\n",
      "5     a   NaN  0.336315 -1.573983\n",
      "6  None   1.0  0.764400 -0.315719\n"
     ]
    },
    {
     "data": {
      "text/html": [
       "<div>\n",
       "<style scoped>\n",
       "    .dataframe tbody tr th:only-of-type {\n",
       "        vertical-align: middle;\n",
       "    }\n",
       "\n",
       "    .dataframe tbody tr th {\n",
       "        vertical-align: top;\n",
       "    }\n",
       "\n",
       "    .dataframe thead th {\n",
       "        text-align: right;\n",
       "    }\n",
       "</style>\n",
       "<table border=\"1\" class=\"dataframe\">\n",
       "  <thead>\n",
       "    <tr style=\"text-align: right;\">\n",
       "      <th>key2</th>\n",
       "      <th>1.0</th>\n",
       "      <th>2.0</th>\n",
       "    </tr>\n",
       "    <tr>\n",
       "      <th>key1</th>\n",
       "      <th></th>\n",
       "      <th></th>\n",
       "    </tr>\n",
       "  </thead>\n",
       "  <tbody>\n",
       "    <tr>\n",
       "      <th>a</th>\n",
       "      <td>-1.106851</td>\n",
       "      <td>1.245186</td>\n",
       "    </tr>\n",
       "    <tr>\n",
       "      <th>b</th>\n",
       "      <td>0.198812</td>\n",
       "      <td>-0.517307</td>\n",
       "    </tr>\n",
       "  </tbody>\n",
       "</table>\n",
       "</div>"
      ],
      "text/plain": [
       "key2       1.0       2.0\n",
       "key1                    \n",
       "a    -1.106851  1.245186\n",
       "b     0.198812 -0.517307"
      ]
     },
     "execution_count": 135,
     "metadata": {},
     "output_type": "execute_result"
    }
   ],
   "source": [
    "print(df)\n",
    "# Unstacking our eailer df\n",
    "df[\"data1\"].groupby([df[\"key1\"], df[\"key2\"]]).mean().unstack()"
   ]
  },
  {
   "cell_type": "code",
   "execution_count": null,
   "metadata": {},
   "outputs": [],
   "source": []
  },
  {
   "cell_type": "markdown",
   "metadata": {},
   "source": []
  }
 ],
 "metadata": {
  "kernelspec": {
   "display_name": "Python 3.9.13 64-bit (microsoft store)",
   "language": "python",
   "name": "python3"
  },
  "language_info": {
   "codemirror_mode": {
    "name": "ipython",
    "version": 3
   },
   "file_extension": ".py",
   "mimetype": "text/x-python",
   "name": "python",
   "nbconvert_exporter": "python",
   "pygments_lexer": "ipython3",
   "version": "3.9.13"
  },
  "orig_nbformat": 4,
  "vscode": {
   "interpreter": {
    "hash": "255d7ba9310648c5ca94a0387298f5e5618361c63d12bd0888f5951bd133afb1"
   }
  }
 },
 "nbformat": 4,
 "nbformat_minor": 2
}
