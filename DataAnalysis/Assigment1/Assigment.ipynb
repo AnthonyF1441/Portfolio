{
 "cells": [
  {
   "cell_type": "code",
   "execution_count": 19,
   "metadata": {},
   "outputs": [],
   "source": [
    "import pandas as pd\n",
    "import numpy as np"
   ]
  },
  {
   "cell_type": "code",
   "execution_count": 20,
   "metadata": {},
   "outputs": [
    {
     "data": {
      "text/html": [
       "<div>\n",
       "<style scoped>\n",
       "    .dataframe tbody tr th:only-of-type {\n",
       "        vertical-align: middle;\n",
       "    }\n",
       "\n",
       "    .dataframe tbody tr th {\n",
       "        vertical-align: top;\n",
       "    }\n",
       "\n",
       "    .dataframe thead th {\n",
       "        text-align: right;\n",
       "    }\n",
       "</style>\n",
       "<table border=\"1\" class=\"dataframe\">\n",
       "  <thead>\n",
       "    <tr style=\"text-align: right;\">\n",
       "      <th></th>\n",
       "      <th>Date</th>\n",
       "      <th>High</th>\n",
       "      <th>Low</th>\n",
       "      <th>Open</th>\n",
       "      <th>Close</th>\n",
       "      <th>Volume</th>\n",
       "      <th>Adj Close</th>\n",
       "    </tr>\n",
       "  </thead>\n",
       "  <tbody>\n",
       "    <tr>\n",
       "      <th>0</th>\n",
       "      <td>1980-03-17</td>\n",
       "      <td>0.827141</td>\n",
       "      <td>0.808554</td>\n",
       "      <td>0.0</td>\n",
       "      <td>0.817847</td>\n",
       "      <td>1158040.0</td>\n",
       "      <td>0.420855</td>\n",
       "    </tr>\n",
       "    <tr>\n",
       "      <th>1</th>\n",
       "      <td>1980-03-18</td>\n",
       "      <td>0.830239</td>\n",
       "      <td>0.814749</td>\n",
       "      <td>0.0</td>\n",
       "      <td>0.827141</td>\n",
       "      <td>1622063.0</td>\n",
       "      <td>0.425637</td>\n",
       "    </tr>\n",
       "    <tr>\n",
       "      <th>2</th>\n",
       "      <td>1980-03-19</td>\n",
       "      <td>0.842631</td>\n",
       "      <td>0.827141</td>\n",
       "      <td>0.0</td>\n",
       "      <td>0.842631</td>\n",
       "      <td>1367859.0</td>\n",
       "      <td>0.433608</td>\n",
       "    </tr>\n",
       "    <tr>\n",
       "      <th>3</th>\n",
       "      <td>1980-03-20</td>\n",
       "      <td>0.861218</td>\n",
       "      <td>0.839533</td>\n",
       "      <td>0.0</td>\n",
       "      <td>0.839533</td>\n",
       "      <td>3046412.0</td>\n",
       "      <td>0.432014</td>\n",
       "    </tr>\n",
       "    <tr>\n",
       "      <th>4</th>\n",
       "      <td>1980-03-21</td>\n",
       "      <td>0.848826</td>\n",
       "      <td>0.836435</td>\n",
       "      <td>0.0</td>\n",
       "      <td>0.836435</td>\n",
       "      <td>1020851.0</td>\n",
       "      <td>0.430420</td>\n",
       "    </tr>\n",
       "  </tbody>\n",
       "</table>\n",
       "</div>"
      ],
      "text/plain": [
       "         Date      High       Low  Open     Close     Volume  Adj Close\n",
       "0  1980-03-17  0.827141  0.808554   0.0  0.817847  1158040.0   0.420855\n",
       "1  1980-03-18  0.830239  0.814749   0.0  0.827141  1622063.0   0.425637\n",
       "2  1980-03-19  0.842631  0.827141   0.0  0.842631  1367859.0   0.433608\n",
       "3  1980-03-20  0.861218  0.839533   0.0  0.839533  3046412.0   0.432014\n",
       "4  1980-03-21  0.848826  0.836435   0.0  0.836435  1020851.0   0.430420"
      ]
     },
     "execution_count": 20,
     "metadata": {},
     "output_type": "execute_result"
    }
   ],
   "source": [
    "data= pd.read_csv(r\"C:\\Users\\Anthony Fung\\LabCode\\Data Analysis\\Assigment1\\Tech_Layoffs_of_2022.csv\")\n",
    "#data.sort_values([\"Layoff\"],axis=0, ascending= False,inplace=True,na_position='first')\n",
    "data.head()"
   ]
  }
 ],
 "metadata": {
  "kernelspec": {
   "display_name": "Python 3.9.13 64-bit (microsoft store)",
   "language": "python",
   "name": "python3"
  },
  "language_info": {
   "codemirror_mode": {
    "name": "ipython",
    "version": 3
   },
   "file_extension": ".py",
   "mimetype": "text/x-python",
   "name": "python",
   "nbconvert_exporter": "python",
   "pygments_lexer": "ipython3",
   "version": "3.9.13"
  },
  "orig_nbformat": 4,
  "vscode": {
   "interpreter": {
    "hash": "255d7ba9310648c5ca94a0387298f5e5618361c63d12bd0888f5951bd133afb1"
   }
  }
 },
 "nbformat": 4,
 "nbformat_minor": 2
}
